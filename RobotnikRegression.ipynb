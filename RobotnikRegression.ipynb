{
  "cells": [
    {
      "cell_type": "markdown",
      "metadata": {
        "id": "view-in-github",
        "colab_type": "text"
      },
      "source": [
        "<a href=\"https://colab.research.google.com/github/jhefe554/RobotnikRegression/blob/main/RobotnikRegression.ipynb\" target=\"_parent\"><img src=\"https://colab.research.google.com/assets/colab-badge.svg\" alt=\"Open In Colab\"/></a>"
      ]
    },
    {
      "cell_type": "markdown",
      "metadata": {
        "id": "X6b99KStm6K9"
      },
      "source": [
        "# Regresión Robotnik\n",
        "\n",
        "Ejercicio inspirado en Reggie's Linear Regression de Codecademy (2022) y referencias a películas y videojuegos.\n",
        "\n",
        "El Dr. Robotnik ha sido contratado para capturar a un erizo azúl que está provocando fluctuaciones eléctricas en un pueblo lejano de Norteamérica. Al verse frente a frente, Robotnik se mostró fascinado por la criatura y decidió capturarla para sus experimentos. Desafortunadamente, el erizo demostró poseer una velocidad nunca antes registrada por un organismo vivo en la Tierra, además de la capacidad de liberar una gran cantidad de energía a medida que incrementaba su velocidad.\n",
        "\n",
        "Después de observar cómo el erizo destruía uno a uno los robots con los que pretendía capturarle, Robotnik regresa a su laboratorio para diseñar un dispositivo que pueda soportar la fuerza de choque del erizo. Para ello, necesitará modelar la relación entre la velocidad y la cantidad de energía liberada por el erizo a través de una regresión lineal utilizando los datos recolectados durante su encuentro.\n",
        "\n",
        "Una _regresión lineal_ se basa en un grupo de puntos sobre una gráfica en donde se desea encontrar una línea que se aproxime a estos puntos minimizando el _error_ o la distancia de cada punto hacia la línea.\n",
        "\n",
        "El objetivo de este taller es utilizar ciclos, listas, operaciones aritméticas y funciones para crear una función que encuentre la línea de mejor ajuste para una serie de datos dados (en este caso, la velocidad y energía liberada por el erizo)."
      ]
    },
    {
      "cell_type": "markdown",
      "metadata": {
        "id": "Xr0wJ-c2m6LI"
      },
      "source": [
        "## Parte 1: Cálculo del Error"
      ]
    },
    {
      "cell_type": "markdown",
      "metadata": {
        "id": "MgM4G80Vm6LJ"
      },
      "source": [
        "La línea que deseamos encontrar es de la forma:\n",
        "\n",
        "$$y = mx + b$$\n",
        "\n",
        "donde $m$ es la pendiente de la línea y $b$ el intercepto donde la línea se cruza con el eje $y$.\n",
        "\n",
        "Crea una función llamada `get_y()` que reciba como parámetros `m`, `b` y `x` y retorne el valor de `y` para esa `x`."
      ]
    },
    {
      "cell_type": "code",
      "execution_count": 90,
      "metadata": {
        "id": "yUc__-Vwm6LK"
      },
      "outputs": [],
      "source": [
        "# Función get_y().\n",
        "def get_y(m, b, x):\n",
        "    y = m * x + b\n",
        "    return y"
      ]
    },
    {
      "cell_type": "markdown",
      "metadata": {
        "id": "mqoq6ZICm6LN"
      },
      "source": [
        "Robotnik quiere probar muchos valores de `m` y `b` para determinar cuál produce la línea con el menor error.\n",
        "\n",
        "Para calcular el error entre un punto y una línea, requiere una función llamada `calculate_error()`, que toma `m`, `b` y un punto llamado `point` que es una pareja de valores `(x, y)` (la velocidad y la energía medidas por los drones). La función debe retornar la distancia entre la línea y el punto.  \n",
        "\n",
        "Para encontrar esta distancia, considere lo siguiente:\n",
        "1. Obtenga el valor de $x$ del punto y almacénelo en una variable llamada `x_point`.\n",
        "2. Obtenga el valor de $y$ del punto y almacénelo en una variable llamada `y_point`.\n",
        "3. Utilice la función `get_y()` para obtener el valor de $y$ calculado con el valor de `x_point`.\n",
        "4. Calcule la diferencia entre la $y$ calculada con la función `get_y()` y `y_point`\n",
        "5. Retorne el valor absoluto de la distancia (puede usar la función `abs()` para hacer esto)."
      ]
    },
    {
      "cell_type": "code",
      "execution_count": 91,
      "metadata": {
        "id": "xKBHPxXim6LP",
        "outputId": "78180ea4-7515-4455-b8dd-4955ce700cc9",
        "colab": {
          "base_uri": "https://localhost:8080/"
        }
      },
      "outputs": [
        {
          "output_type": "stream",
          "name": "stdout",
          "text": [
            "3\n"
          ]
        }
      ],
      "source": [
        "# Función calculate_error(m, b, point)\n",
        "def calculate_error(m, b, point):\n",
        "    x_point, y_point = point\n",
        "    y_predicted = get_y(m, b, x_point)\n",
        "    distance = abs(y_predicted - y_point)\n",
        "    return distance\n",
        "\n",
        "print(calculate_error(2, 3, (5, 10)))"
      ]
    },
    {
      "cell_type": "markdown",
      "metadata": {
        "id": "hZjKVO6Om6LQ"
      },
      "source": [
        "Probemos la función:"
      ]
    },
    {
      "cell_type": "code",
      "execution_count": 92,
      "metadata": {
        "id": "ayv_FdJEm6LR",
        "outputId": "7c26507e-d4d1-47c0-f559-03834cd22ad8",
        "colab": {
          "base_uri": "https://localhost:8080/"
        }
      },
      "outputs": [
        {
          "output_type": "stream",
          "name": "stdout",
          "text": [
            "0\n",
            "1\n",
            "1\n",
            "5\n"
          ]
        }
      ],
      "source": [
        "#En esta línea, y = x, así que el punto (3, 3) debería estar sobre la línea. El error debe ser cero (0):\n",
        "print(calculate_error(1, 0, (3, 3)))\n",
        "\n",
        "#El punto (3, 4) debería estar a 1 unidad de distancia de la línea y = x:\n",
        "print(calculate_error(1, 0, (3, 4)))\n",
        "\n",
        "#El punto (3, 3) debería estar a 1 unidad de distancia de la línea y = x - 1:\n",
        "print(calculate_error(1, -1, (3, 3)))\n",
        "\n",
        "#El punto (3, 3) debería estar a 5 unidades de distancia de la línea y = -x + 1:\n",
        "print(calculate_error(-1, 1, (3, 3)))"
      ]
    },
    {
      "cell_type": "markdown",
      "metadata": {
        "collapsed": true,
        "id": "1jxcFWKQm6LT",
        "jupyter": {
          "outputs_hidden": true
        }
      },
      "source": [
        "Los datos de velocidad y energía recolectados por los drones de Robotnik han sido almacenados en una lista llamada `datapoints`:"
      ]
    },
    {
      "cell_type": "code",
      "execution_count": 93,
      "metadata": {
        "id": "hcwbW0Ldm6LU"
      },
      "outputs": [],
      "source": [
        "datapoints = [(1, 2), (2, 0), (3, 4), (4, 4), (5, 3)]"
      ]
    },
    {
      "cell_type": "markdown",
      "metadata": {
        "collapsed": true,
        "id": "WL0OSMlXm6LV",
        "jupyter": {
          "outputs_hidden": true
        }
      },
      "source": [
        "El primer registro, `(1, 2)`, significa que el erizo produjo una cantidad de energía de $2 GJ$ ($1 GJ = 277.8 kWh$) a una velocidad de $1 m/s$. A una velocidad de $4 m/s$ produjo $4 GJ$.\n",
        "\n",
        "A medida que buscamos una línea que se ajuste a estos datos, necesitaremos una función llamada `calculate_all_error`, que toma la `m` y la `b` que describe una línea, y un conjunto de datos `datapoints`.\n",
        "\n",
        "La función `calculate_all_error` debería iterar a través de cada `point`en `points` y calcular el error de ese punto hacia la línea (usando `calculate_error`). La función debe mantener un acumulador del error total, y luego retornar este valor al terminar de evaluar todos los puntos."
      ]
    },
    {
      "cell_type": "code",
      "execution_count": 94,
      "metadata": {
        "id": "qwzPAHFcm6LW"
      },
      "outputs": [],
      "source": [
        "# Función calculate_all_error(m, b, datapoints):\n",
        "def calculate_all_error(m, b, datapoints):\n",
        "    total_error = 0\n",
        "    for point in datapoints:\n",
        "        total_error += calculate_error(m, b, point)\n",
        "    return total_error\n"
      ]
    },
    {
      "cell_type": "markdown",
      "metadata": {
        "id": "CpHfWBRhm6LX"
      },
      "source": [
        "Probemos la función:"
      ]
    },
    {
      "cell_type": "code",
      "execution_count": 95,
      "metadata": {
        "id": "ENQY_hEtm6LX",
        "outputId": "ec1ab249-6e07-490e-9076-72746ab4c465",
        "colab": {
          "base_uri": "https://localhost:8080/"
        }
      },
      "outputs": [
        {
          "output_type": "stream",
          "name": "stdout",
          "text": [
            "0\n",
            "4\n",
            "4\n",
            "18\n"
          ]
        }
      ],
      "source": [
        "#Cada punto en este conjunto se encuentra sobre la línea y=x, por lo que el error total debería ser cero (0):\n",
        "test_datapoints = [(1, 1), (3, 3), (5, 5), (-1, -1)]\n",
        "print(calculate_all_error(1, 0, test_datapoints))\n",
        "\n",
        "#Cada punto en este conjunto está a 1 unidad de distancia de y = x + 1, por lo que el error total debería ser de cuatro (4):\n",
        "datapoints = [(1, 1), (3, 3), (5, 5), (-1, -1)]\n",
        "print(calculate_all_error(1, 1, test_datapoints))\n",
        "\n",
        "#Cada punto en este conjunto está a 1 unidad de distancia de y = x - 1, por lo que el error total debería ser de cuatro (4):\n",
        "datapoints = [(1, 1), (3, 3), (5, 5), (-1, -1)]\n",
        "print(calculate_all_error(1, -1, test_datapoints))\n",
        "\n",
        "#Los puntos en este conjunto están a 1, 5, 9, y 3 unidades de distancia de y = -x + 1, respectivamente,\n",
        "#por lo que el error total debería ser de 1 + 5 + 9 + 3 = 18\n",
        "datapoints = [(1, 1), (3, 3), (5, 5), (-1, -1)]\n",
        "print(calculate_all_error(-1, 1, test_datapoints))"
      ]
    },
    {
      "cell_type": "markdown",
      "metadata": {
        "id": "od89UvHsm6LY"
      },
      "source": [
        "Robotnik parece satisfecho. Parece que ya tenemos una función que toma una línea y los datos de los drones, y retornar qué tanto error se produce cuando tratamos de encajar la línea con los datos.\n",
        "\n",
        "El siguiente paso es encontrar la `m` y la `b` que minimiza este error, y así, la que mejor se ajusta a los datos."
      ]
    },
    {
      "cell_type": "markdown",
      "metadata": {
        "id": "9vN97L_Qm6LY"
      },
      "source": [
        "## Parte 2: Probando pendientes e interceptos"
      ]
    },
    {
      "cell_type": "markdown",
      "metadata": {
        "id": "XTGI6ecOm6LZ"
      },
      "source": [
        "Robotnik considera que la mejor forma de encontrar la línea que mejor se ajusta a los datos es a punta de ensayo y error. Para esto, se debe probar muchas pendientes diferentes (valores de `m`) y muchos interceptos diferentes (valores de `b`), y ver cuál de ellos produce el error más pequeño para los registros de los drones.\n",
        "\n",
        "Usando list comprehension, crea una lista de los posibles `m` a probar. Haz que la lisa `possible_ms` vaya de -10 a 10 (inclusiva) en incrementos de 0.1.\n",
        "\n",
        "Pista: (para ver la pista, haz doble clic en la celda para ver el texto oculto)\n",
        "<span style=\"visibility: hidden;\">\n",
        "  puedes atravesar los valores en range(-100, 101) y multiplicar cada uno por 0.1\n",
        "</span>"
      ]
    },
    {
      "cell_type": "code",
      "execution_count": 96,
      "metadata": {
        "id": "Dx3yJKJFm6LZ",
        "outputId": "06b2a753-9051-4aa2-e78f-beee5e7f87c9",
        "colab": {
          "base_uri": "https://localhost:8080/"
        }
      },
      "outputs": [
        {
          "output_type": "stream",
          "name": "stdout",
          "text": [
            "[-1.00000000e+01 -9.90000000e+00 -9.80000000e+00 -9.70000000e+00\n",
            " -9.60000000e+00 -9.50000000e+00 -9.40000000e+00 -9.30000000e+00\n",
            " -9.20000000e+00 -9.10000000e+00 -9.00000000e+00 -8.90000000e+00\n",
            " -8.80000000e+00 -8.70000000e+00 -8.60000000e+00 -8.50000000e+00\n",
            " -8.40000000e+00 -8.30000000e+00 -8.20000000e+00 -8.10000000e+00\n",
            " -8.00000000e+00 -7.90000000e+00 -7.80000000e+00 -7.70000000e+00\n",
            " -7.60000000e+00 -7.50000000e+00 -7.40000000e+00 -7.30000000e+00\n",
            " -7.20000000e+00 -7.10000000e+00 -7.00000000e+00 -6.90000000e+00\n",
            " -6.80000000e+00 -6.70000000e+00 -6.60000000e+00 -6.50000000e+00\n",
            " -6.40000000e+00 -6.30000000e+00 -6.20000000e+00 -6.10000000e+00\n",
            " -6.00000000e+00 -5.90000000e+00 -5.80000000e+00 -5.70000000e+00\n",
            " -5.60000000e+00 -5.50000000e+00 -5.40000000e+00 -5.30000000e+00\n",
            " -5.20000000e+00 -5.10000000e+00 -5.00000000e+00 -4.90000000e+00\n",
            " -4.80000000e+00 -4.70000000e+00 -4.60000000e+00 -4.50000000e+00\n",
            " -4.40000000e+00 -4.30000000e+00 -4.20000000e+00 -4.10000000e+00\n",
            " -4.00000000e+00 -3.90000000e+00 -3.80000000e+00 -3.70000000e+00\n",
            " -3.60000000e+00 -3.50000000e+00 -3.40000000e+00 -3.30000000e+00\n",
            " -3.20000000e+00 -3.10000000e+00 -3.00000000e+00 -2.90000000e+00\n",
            " -2.80000000e+00 -2.70000000e+00 -2.60000000e+00 -2.50000000e+00\n",
            " -2.40000000e+00 -2.30000000e+00 -2.20000000e+00 -2.10000000e+00\n",
            " -2.00000000e+00 -1.90000000e+00 -1.80000000e+00 -1.70000000e+00\n",
            " -1.60000000e+00 -1.50000000e+00 -1.40000000e+00 -1.30000000e+00\n",
            " -1.20000000e+00 -1.10000000e+00 -1.00000000e+00 -9.00000000e-01\n",
            " -8.00000000e-01 -7.00000000e-01 -6.00000000e-01 -5.00000000e-01\n",
            " -4.00000000e-01 -3.00000000e-01 -2.00000000e-01 -1.00000000e-01\n",
            " -3.55271368e-14  1.00000000e-01  2.00000000e-01  3.00000000e-01\n",
            "  4.00000000e-01  5.00000000e-01  6.00000000e-01  7.00000000e-01\n",
            "  8.00000000e-01  9.00000000e-01  1.00000000e+00  1.10000000e+00\n",
            "  1.20000000e+00  1.30000000e+00  1.40000000e+00  1.50000000e+00\n",
            "  1.60000000e+00  1.70000000e+00  1.80000000e+00  1.90000000e+00\n",
            "  2.00000000e+00  2.10000000e+00  2.20000000e+00  2.30000000e+00\n",
            "  2.40000000e+00  2.50000000e+00  2.60000000e+00  2.70000000e+00\n",
            "  2.80000000e+00  2.90000000e+00  3.00000000e+00  3.10000000e+00\n",
            "  3.20000000e+00  3.30000000e+00  3.40000000e+00  3.50000000e+00\n",
            "  3.60000000e+00  3.70000000e+00  3.80000000e+00  3.90000000e+00\n",
            "  4.00000000e+00  4.10000000e+00  4.20000000e+00  4.30000000e+00\n",
            "  4.40000000e+00  4.50000000e+00  4.60000000e+00  4.70000000e+00\n",
            "  4.80000000e+00  4.90000000e+00  5.00000000e+00  5.10000000e+00\n",
            "  5.20000000e+00  5.30000000e+00  5.40000000e+00  5.50000000e+00\n",
            "  5.60000000e+00  5.70000000e+00  5.80000000e+00  5.90000000e+00\n",
            "  6.00000000e+00  6.10000000e+00  6.20000000e+00  6.30000000e+00\n",
            "  6.40000000e+00  6.50000000e+00  6.60000000e+00  6.70000000e+00\n",
            "  6.80000000e+00  6.90000000e+00  7.00000000e+00  7.10000000e+00\n",
            "  7.20000000e+00  7.30000000e+00  7.40000000e+00  7.50000000e+00\n",
            "  7.60000000e+00  7.70000000e+00  7.80000000e+00  7.90000000e+00\n",
            "  8.00000000e+00  8.10000000e+00  8.20000000e+00  8.30000000e+00\n",
            "  8.40000000e+00  8.50000000e+00  8.60000000e+00  8.70000000e+00\n",
            "  8.80000000e+00  8.90000000e+00  9.00000000e+00  9.10000000e+00\n",
            "  9.20000000e+00  9.30000000e+00  9.40000000e+00  9.50000000e+00\n",
            "  9.60000000e+00  9.70000000e+00  9.80000000e+00  9.90000000e+00\n",
            "  1.00000000e+01]\n"
          ]
        }
      ],
      "source": [
        "# possible_ms = []\n",
        "possible_ms = np.arange(-10,10.1,0.1)\n",
        "print(possible_ms)\n"
      ]
    },
    {
      "cell_type": "markdown",
      "metadata": {
        "id": "pC7hbi64m6La"
      },
      "source": [
        "Ahora, crea una lista de los posibles `b` (`possible_bs`) entre -20 y 20 (inclusivo), en pasos de 0.1:"
      ]
    },
    {
      "cell_type": "code",
      "execution_count": 86,
      "metadata": {
        "id": "3VjQWy6Cm6La",
        "outputId": "9aea7293-2c67-47f9-c59b-8c9543a2e87e",
        "colab": {
          "base_uri": "https://localhost:8080/"
        }
      },
      "outputs": [
        {
          "output_type": "stream",
          "name": "stdout",
          "text": [
            "[-2.00000000e+01 -1.99000000e+01 -1.98000000e+01 -1.97000000e+01\n",
            " -1.96000000e+01 -1.95000000e+01 -1.94000000e+01 -1.93000000e+01\n",
            " -1.92000000e+01 -1.91000000e+01 -1.90000000e+01 -1.89000000e+01\n",
            " -1.88000000e+01 -1.87000000e+01 -1.86000000e+01 -1.85000000e+01\n",
            " -1.84000000e+01 -1.83000000e+01 -1.82000000e+01 -1.81000000e+01\n",
            " -1.80000000e+01 -1.79000000e+01 -1.78000000e+01 -1.77000000e+01\n",
            " -1.76000000e+01 -1.75000000e+01 -1.74000000e+01 -1.73000000e+01\n",
            " -1.72000000e+01 -1.71000000e+01 -1.70000000e+01 -1.69000000e+01\n",
            " -1.68000000e+01 -1.67000000e+01 -1.66000000e+01 -1.65000000e+01\n",
            " -1.64000000e+01 -1.63000000e+01 -1.62000000e+01 -1.61000000e+01\n",
            " -1.60000000e+01 -1.59000000e+01 -1.58000000e+01 -1.57000000e+01\n",
            " -1.56000000e+01 -1.55000000e+01 -1.54000000e+01 -1.53000000e+01\n",
            " -1.52000000e+01 -1.51000000e+01 -1.50000000e+01 -1.49000000e+01\n",
            " -1.48000000e+01 -1.47000000e+01 -1.46000000e+01 -1.45000000e+01\n",
            " -1.44000000e+01 -1.43000000e+01 -1.42000000e+01 -1.41000000e+01\n",
            " -1.40000000e+01 -1.39000000e+01 -1.38000000e+01 -1.37000000e+01\n",
            " -1.36000000e+01 -1.35000000e+01 -1.34000000e+01 -1.33000000e+01\n",
            " -1.32000000e+01 -1.31000000e+01 -1.30000000e+01 -1.29000000e+01\n",
            " -1.28000000e+01 -1.27000000e+01 -1.26000000e+01 -1.25000000e+01\n",
            " -1.24000000e+01 -1.23000000e+01 -1.22000000e+01 -1.21000000e+01\n",
            " -1.20000000e+01 -1.19000000e+01 -1.18000000e+01 -1.17000000e+01\n",
            " -1.16000000e+01 -1.15000000e+01 -1.14000000e+01 -1.13000000e+01\n",
            " -1.12000000e+01 -1.11000000e+01 -1.10000000e+01 -1.09000000e+01\n",
            " -1.08000000e+01 -1.07000000e+01 -1.06000000e+01 -1.05000000e+01\n",
            " -1.04000000e+01 -1.03000000e+01 -1.02000000e+01 -1.01000000e+01\n",
            " -1.00000000e+01 -9.90000000e+00 -9.80000000e+00 -9.70000000e+00\n",
            " -9.60000000e+00 -9.50000000e+00 -9.40000000e+00 -9.30000000e+00\n",
            " -9.20000000e+00 -9.10000000e+00 -9.00000000e+00 -8.90000000e+00\n",
            " -8.80000000e+00 -8.70000000e+00 -8.60000000e+00 -8.50000000e+00\n",
            " -8.40000000e+00 -8.30000000e+00 -8.20000000e+00 -8.10000000e+00\n",
            " -8.00000000e+00 -7.90000000e+00 -7.80000000e+00 -7.70000000e+00\n",
            " -7.60000000e+00 -7.50000000e+00 -7.40000000e+00 -7.30000000e+00\n",
            " -7.20000000e+00 -7.10000000e+00 -7.00000000e+00 -6.90000000e+00\n",
            " -6.80000000e+00 -6.70000000e+00 -6.60000000e+00 -6.50000000e+00\n",
            " -6.40000000e+00 -6.30000000e+00 -6.20000000e+00 -6.10000000e+00\n",
            " -6.00000000e+00 -5.90000000e+00 -5.80000000e+00 -5.70000000e+00\n",
            " -5.60000000e+00 -5.50000000e+00 -5.40000000e+00 -5.30000000e+00\n",
            " -5.20000000e+00 -5.10000000e+00 -5.00000000e+00 -4.90000000e+00\n",
            " -4.80000000e+00 -4.70000000e+00 -4.60000000e+00 -4.50000000e+00\n",
            " -4.40000000e+00 -4.30000000e+00 -4.20000000e+00 -4.10000000e+00\n",
            " -4.00000000e+00 -3.90000000e+00 -3.80000000e+00 -3.70000000e+00\n",
            " -3.60000000e+00 -3.50000000e+00 -3.40000000e+00 -3.30000000e+00\n",
            " -3.20000000e+00 -3.10000000e+00 -3.00000000e+00 -2.90000000e+00\n",
            " -2.80000000e+00 -2.70000000e+00 -2.60000000e+00 -2.50000000e+00\n",
            " -2.40000000e+00 -2.30000000e+00 -2.20000000e+00 -2.10000000e+00\n",
            " -2.00000000e+00 -1.90000000e+00 -1.80000000e+00 -1.70000000e+00\n",
            " -1.60000000e+00 -1.50000000e+00 -1.40000000e+00 -1.30000000e+00\n",
            " -1.20000000e+00 -1.10000000e+00 -1.00000000e+00 -9.00000000e-01\n",
            " -8.00000000e-01 -7.00000000e-01 -6.00000000e-01 -5.00000000e-01\n",
            " -4.00000000e-01 -3.00000000e-01 -2.00000000e-01 -1.00000000e-01\n",
            "  2.84217094e-13  1.00000000e-01  2.00000000e-01  3.00000000e-01\n",
            "  4.00000000e-01  5.00000000e-01  6.00000000e-01  7.00000000e-01\n",
            "  8.00000000e-01  9.00000000e-01  1.00000000e+00  1.10000000e+00\n",
            "  1.20000000e+00  1.30000000e+00  1.40000000e+00  1.50000000e+00\n",
            "  1.60000000e+00  1.70000000e+00  1.80000000e+00  1.90000000e+00\n",
            "  2.00000000e+00  2.10000000e+00  2.20000000e+00  2.30000000e+00\n",
            "  2.40000000e+00  2.50000000e+00  2.60000000e+00  2.70000000e+00\n",
            "  2.80000000e+00  2.90000000e+00  3.00000000e+00  3.10000000e+00\n",
            "  3.20000000e+00  3.30000000e+00  3.40000000e+00  3.50000000e+00\n",
            "  3.60000000e+00  3.70000000e+00  3.80000000e+00  3.90000000e+00\n",
            "  4.00000000e+00  4.10000000e+00  4.20000000e+00  4.30000000e+00\n",
            "  4.40000000e+00  4.50000000e+00  4.60000000e+00  4.70000000e+00\n",
            "  4.80000000e+00  4.90000000e+00  5.00000000e+00  5.10000000e+00\n",
            "  5.20000000e+00  5.30000000e+00  5.40000000e+00  5.50000000e+00\n",
            "  5.60000000e+00  5.70000000e+00  5.80000000e+00  5.90000000e+00\n",
            "  6.00000000e+00  6.10000000e+00  6.20000000e+00  6.30000000e+00\n",
            "  6.40000000e+00  6.50000000e+00  6.60000000e+00  6.70000000e+00\n",
            "  6.80000000e+00  6.90000000e+00  7.00000000e+00  7.10000000e+00\n",
            "  7.20000000e+00  7.30000000e+00  7.40000000e+00  7.50000000e+00\n",
            "  7.60000000e+00  7.70000000e+00  7.80000000e+00  7.90000000e+00\n",
            "  8.00000000e+00  8.10000000e+00  8.20000000e+00  8.30000000e+00\n",
            "  8.40000000e+00  8.50000000e+00  8.60000000e+00  8.70000000e+00\n",
            "  8.80000000e+00  8.90000000e+00  9.00000000e+00  9.10000000e+00\n",
            "  9.20000000e+00  9.30000000e+00  9.40000000e+00  9.50000000e+00\n",
            "  9.60000000e+00  9.70000000e+00  9.80000000e+00  9.90000000e+00\n",
            "  1.00000000e+01  1.01000000e+01  1.02000000e+01  1.03000000e+01\n",
            "  1.04000000e+01  1.05000000e+01  1.06000000e+01  1.07000000e+01\n",
            "  1.08000000e+01  1.09000000e+01  1.10000000e+01  1.11000000e+01\n",
            "  1.12000000e+01  1.13000000e+01  1.14000000e+01  1.15000000e+01\n",
            "  1.16000000e+01  1.17000000e+01  1.18000000e+01  1.19000000e+01\n",
            "  1.20000000e+01  1.21000000e+01  1.22000000e+01  1.23000000e+01\n",
            "  1.24000000e+01  1.25000000e+01  1.26000000e+01  1.27000000e+01\n",
            "  1.28000000e+01  1.29000000e+01  1.30000000e+01  1.31000000e+01\n",
            "  1.32000000e+01  1.33000000e+01  1.34000000e+01  1.35000000e+01\n",
            "  1.36000000e+01  1.37000000e+01  1.38000000e+01  1.39000000e+01\n",
            "  1.40000000e+01  1.41000000e+01  1.42000000e+01  1.43000000e+01\n",
            "  1.44000000e+01  1.45000000e+01  1.46000000e+01  1.47000000e+01\n",
            "  1.48000000e+01  1.49000000e+01  1.50000000e+01  1.51000000e+01\n",
            "  1.52000000e+01  1.53000000e+01  1.54000000e+01  1.55000000e+01\n",
            "  1.56000000e+01  1.57000000e+01  1.58000000e+01  1.59000000e+01\n",
            "  1.60000000e+01  1.61000000e+01  1.62000000e+01  1.63000000e+01\n",
            "  1.64000000e+01  1.65000000e+01  1.66000000e+01  1.67000000e+01\n",
            "  1.68000000e+01  1.69000000e+01  1.70000000e+01  1.71000000e+01\n",
            "  1.72000000e+01  1.73000000e+01  1.74000000e+01  1.75000000e+01\n",
            "  1.76000000e+01  1.77000000e+01  1.78000000e+01  1.79000000e+01\n",
            "  1.80000000e+01  1.81000000e+01  1.82000000e+01  1.83000000e+01\n",
            "  1.84000000e+01  1.85000000e+01  1.86000000e+01  1.87000000e+01\n",
            "  1.88000000e+01  1.89000000e+01  1.90000000e+01  1.91000000e+01\n",
            "  1.92000000e+01  1.93000000e+01  1.94000000e+01  1.95000000e+01\n",
            "  1.96000000e+01  1.97000000e+01  1.98000000e+01  1.99000000e+01\n",
            "  2.00000000e+01]\n"
          ]
        }
      ],
      "source": [
        "# possible_bs = []\n",
        "possible_bs = np.arange(-20,20.1,0.1)\n",
        "print(possible_bs)"
      ]
    },
    {
      "cell_type": "markdown",
      "metadata": {
        "id": "wphxD026m6Lb"
      },
      "source": [
        "Para encontrar el error más pequeño, primero tenemos que crear todas las líneas posibles (`y = mx + b`) a partir de todas las `m` y las `b` posibles (`possible_ms` y `possible_bs`). Después, tenemos que evaluar qué línea produce el menor error total con el conjunto de datos de los registros de los drones (`datapoints`)\n",
        "\n",
        "Para esto:\n",
        "1. Crea las variables que estaremos optimizando:\n",
        "    * `smallest_error` - debería comenzar en el infinito (`float(\"inf\")`) tal que cualquier error que obtengamos inicialmente sea más pequeño que `smallest_error`.\n",
        "    * `best_m` - puede comenzar en cero (0).\n",
        "    * `best_b` - puede comenzar en cero (0).\n",
        "2. Itera a través de cada elemento `m` en `possible_ms`.\n",
        "3. Para cada valor de `m`, toma cada valor de `b` en `possible_bs`.\n",
        "4. Si el valor retornado de la función `calculate_all_error` para un valor de `m`, `b` y los `datapoints` es menor que el `smallest_error` actual, cambia los valores de `best_m`, `best_b` y `smallest_error`.\n",
        "\n",
        "Al finalizar los ciclos anidados, la variable `smallest_error` debería tener el menor error encontrado, y `best_m` y `best_b` deberían ser los valores que producen el menor error."
      ]
    },
    {
      "cell_type": "code",
      "execution_count": 97,
      "metadata": {
        "id": "gJzB664xm6Lb",
        "outputId": "5d2f0ff9-a1c6-44d0-e7a9-28c5c920df46",
        "colab": {
          "base_uri": "https://localhost:8080/"
        }
      },
      "outputs": [
        {
          "output_type": "stream",
          "name": "stdout",
          "text": [
            "best_m: 0.2999999999999634\n",
            "beast b: 1.6999999999999584\n",
            "Smallest_error:5.000000000000078\n"
          ]
        }
      ],
      "source": [
        "# Calcular smallest_error, best_m y best_b\n",
        "smallest_error = float(\"inf\")\n",
        "best_m = 0\n",
        "best_b = 0\n",
        "xs = np.array([1, 2, 3, 4, 5])\n",
        "ys = np.array([2, 0, 4, 4, 3])\n",
        "datapoints = [(1, 2), (2, 0), (3, 4), (4, 4), (5, 3)]\n",
        "\n",
        "for m in possible_ms:\n",
        "    for b in possible_ms:\n",
        "        current_error = calculate_all_error(m, b, datapoints)\n",
        "        if current_error < smallest_error:\n",
        "            best_m = m\n",
        "            best_b = b\n",
        "            smallest_error = current_error\n",
        "\n",
        "print(f\"best_m: {best_m}\\nbeast b: {best_b}\\nSmallest_error:{smallest_error}\")"
      ]
    },
    {
      "cell_type": "markdown",
      "metadata": {
        "id": "OQdbTiKhm6Lb"
      },
      "source": [
        "## Parte 3: Predicciones del Modelo"
      ]
    },
    {
      "cell_type": "markdown",
      "metadata": {
        "id": "Z9Gnq9qSm6Lc"
      },
      "source": [
        "Utilizando los valores de `m` y `b` arrojados por nuestro algoritmo para encontrar la línea de mejor ajuste a los datos recopilados por los drones, grafica la línea energía-velocidad, así como los datos de velocidad y energía recolectados por los drones de Robotnik."
      ]
    },
    {
      "cell_type": "code",
      "execution_count": 75,
      "metadata": {
        "id": "CCRmXsJBm6Lc",
        "outputId": "d125cbc9-e208-44a3-eda8-0b079c3b75e6",
        "colab": {
          "base_uri": "https://localhost:8080/",
          "height": 472
        }
      },
      "outputs": [
        {
          "output_type": "display_data",
          "data": {
            "text/plain": [
              "<Figure size 640x480 with 1 Axes>"
            ],
            "image/png": "[encoded data removed]"
          },
          "metadata": {}
        }
      ],
      "source": [
        "# Gráfica de la línea de mejor ajuste\n",
        "import matplotlib.pyplot as plt\n",
        "datapoints = [(1, 2), (2, 0), (3, 4), (4, 4), (5, 3)]\n",
        "best_m = 0.3\n",
        "best_b = 1.8\n",
        "energia_predicha = [best_m * x + best_b for x, _ in datapoints]\n",
        "velocidades = [x for x, _ in datapoints]\n",
        "energias = [y for _, y in datapoints]\n",
        "plt.scatter(velocidades, energias, color='blue', label='Datos recolectados')\n",
        "plt.plot(velocidades, energia_predicha, color='red' , label='Línea de mejor ajuste')-\n",
        "plt.xlabel('Velocidad')\n",
        "plt.ylabel('Energía')\n",
        "plt.title('Relación entre Velocidad y Energía')\n",
        "plt.legend()\n",
        "plt.grid(True)\n",
        "plt.show()\n"
      ]
    },
    {
      "cell_type": "markdown",
      "metadata": {
        "id": "cecmpHmsrb8X"
      },
      "source": [
        "Actividad desarrollada por Jheferson Navas Doria (jheferson.navas@upb.edu.co)"
      ]
    }
  ],
  "metadata": {
    "colab": {
      "name": "Taller_2.ipynb",
      "provenance": [],
      "include_colab_link": true
    },
    "kernelspec": {
      "display_name": "Python 3 (ipykernel)",
      "language": "python",
      "name": "python3"
    },
    "language_info": {
      "codemirror_mode": {
        "name": "ipython",
        "version": 3
      },
      "file_extension": ".py",
      "mimetype": "text/x-python",
      "name": "python",
      "nbconvert_exporter": "python",
      "pygments_lexer": "ipython3",
      "version": "3.12.2"
    }
  },
  "nbformat": 4,
  "nbformat_minor": 0
}